{
 "cells": [
  {
   "cell_type": "code",
   "execution_count": 1,
   "metadata": {},
   "outputs": [],
   "source": [
    "from turtle import Turtle, Screen \n",
    "from time import sleep\n",
    "\n",
    "###Top piece\n",
    "piece1 = [ [0, -2, -3.5, -6.5, -8.5, -8.5, -8.0, -8.5, -7.5, -7.0, -2.0, 0],[0, 0, 7, 5.5, 4, -1, -4, -5.5, -6.5, -5.5, -7.0, -7.0] ]\n",
    "###Middle piece\n",
    "piece2 = [ [0, -2.0, -2.5, -5.0, -6.5, -8.8, -9.3, -9.3, -6.0, -5.5, -4.0, -3.2, 0], [-7.5, -7.5, -8.0, -8.3, -8.0, -6.0, -7.5, -8.0, -14.5, -16.5, -17.5, -16.5, -16.5] ]\n",
    "###Bottom piece\n",
    "piece3 = [ [0, -3.0, -4.0, -5.5, -6.0, -4.5, -3.0, -1.5, -1.0, 0], [-17.0, -17.0, -18.0, -17.0, -18.5, -20.0, -19.0, -19.0, -18.5, -18.5] ]\n",
    "\n",
    "t=Turtle()\n",
    "s=Screen()\n",
    "t.hideturtle()\n",
    "s.bgcolor(\"#ba161e\")      #Dark red\n",
    "s.setup(500, 600)\n",
    "x_offset, y_offset = 0, 120\n",
    "zoom_factor = 15\n",
    "t.speed(2)\n",
    "\n",
    "def draw_piece(piece):\n",
    "    t.penup()\n",
    "    t.goto(piece[0][0] * zoom_factor + x_offset, piece[1][0] * zoom_factor + y_offset)\n",
    "    t.pendown()\n",
    "    t.color('#fab104')   #Light Yellow\n",
    "    t.begin_fill()\n",
    "    for i in range(1, len(piece[0])):\n",
    "        x, y = piece[0][i] * zoom_factor + x_offset, piece[1][i] * zoom_factor + y_offset\n",
    "        t.goto(x, y)\n",
    "    #color(\"#f19100\")     \n",
    "    for i in range(len(piece[0])-1, -1, -1):\n",
    "        x, y = piece[0][i] * zoom_factor * -1 + x_offset, piece[1][i] * zoom_factor + y_offset\n",
    "        t.goto(x, y)\n",
    "    t.end_fill()\n",
    "    \n",
    "\n",
    "draw_piece(piece1)\n",
    "draw_piece(piece2)\n",
    "draw_piece(piece3)\n",
    "sleep(4)"
   ]
  },
  {
   "cell_type": "code",
   "execution_count": null,
   "metadata": {},
   "outputs": [],
   "source": []
  },
  {
   "cell_type": "code",
   "execution_count": null,
   "metadata": {},
   "outputs": [],
   "source": []
  }
 ],
 "metadata": {
  "kernelspec": {
   "display_name": "Python 3",
   "language": "python",
   "name": "python3"
  },
  "language_info": {
   "codemirror_mode": {
    "name": "ipython",
    "version": 3
   },
   "file_extension": ".py",
   "mimetype": "text/x-python",
   "name": "python",
   "nbconvert_exporter": "python",
   "pygments_lexer": "ipython3",
   "version": "3.6.5"
  }
 },
 "nbformat": 4,
 "nbformat_minor": 2
}
